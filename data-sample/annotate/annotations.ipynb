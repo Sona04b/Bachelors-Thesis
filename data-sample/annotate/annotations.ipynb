{
 "cells": [
  {
   "cell_type": "code",
   "execution_count": 2,
   "metadata": {},
   "outputs": [
    {
     "name": "stdout",
     "output_type": "stream",
     "text": [
      "CSV files created successfully!\n"
     ]
    }
   ],
   "source": [
    "import pandas as pd\n",
    "import os\n",
    "\n",
    "# Read the CSV file\n",
    "csv_file = 'set1_annotations.csv'\n",
    "df = pd.read_csv(csv_file)\n",
    "\n",
    "# Rename the columns as required\n",
    "df.columns = ['Label', 'x_st_pt', 'y_st_pt', 'box_width', 'box_height', 'Image_name', 'Image_width', 'Image_height']\n",
    "\n",
    "# Create a directory to store the output CSV files if it doesn't exist\n",
    "output_dir = 'annotated_images'\n",
    "if not os.path.exists(output_dir):\n",
    "    os.makedirs(output_dir)\n",
    "\n",
    "# Group by 'Image_name' and create individual CSV files for each image\n",
    "for image_name, group in df.groupby('Image_name'):\n",
    "    # Strip the file extension from the image name\n",
    "    image_name_no_ext = os.path.splitext(image_name)[0]\n",
    "    \n",
    "    # Construct the output CSV file path\n",
    "    output_file = os.path.join(output_dir, f\"{image_name_no_ext}_annot.csv\")\n",
    "    \n",
    "    # Write the grouped data to the CSV file\n",
    "    group.to_csv(output_file, index=False)\n",
    "\n",
    "print(\"CSV files created successfully!\")\n"
   ]
  },
  {
   "cell_type": "code",
   "execution_count": 3,
   "metadata": {},
   "outputs": [
    {
     "name": "stdout",
     "output_type": "stream",
     "text": [
      "CSV files created successfully!\n"
     ]
    }
   ],
   "source": [
    "import pandas as pd\n",
    "import os\n",
    "\n",
    "# Read the CSV file\n",
    "csv_file = 'set1_annotations.csv'\n",
    "df = pd.read_csv(csv_file)\n",
    "\n",
    "# Rename the columns as required\n",
    "df.columns = ['Label', 'x_st_pt', 'y_st_pt', 'box_width', 'box_height', 'Image_name', 'Image_width', 'Image_height']\n",
    "\n",
    "# Create a directory to store the output CSV files if it doesn't exist\n",
    "output_dir = 'annotated_images'\n",
    "if not os.path.exists(output_dir):\n",
    "    os.makedirs(output_dir)\n",
    "\n",
    "# Group by 'Image_name' and create individual CSV files for each image\n",
    "image_names = df['Image_name'].unique()\n",
    "for image_name, group in df.groupby('Image_name'):\n",
    "    # Strip the file extension from the image name\n",
    "    image_name_no_ext = os.path.splitext(image_name)[0]\n",
    "    \n",
    "    # Construct the output CSV file path\n",
    "    output_file = os.path.join(output_dir, f\"{image_name_no_ext}_annot.csv\")\n",
    "    \n",
    "    # Write the grouped data to the CSV file\n",
    "    group.to_csv(output_file, index=False)\n",
    "\n",
    "# Create empty CSV files with headers for missing image names from 1 to 50\n",
    "for i in range(1, 51):\n",
    "    image_name_no_ext = str(i)\n",
    "    if image_name_no_ext not in [os.path.splitext(name)[0] for name in image_names]:\n",
    "        output_file = os.path.join(output_dir, f\"{image_name_no_ext}_annot.csv\")\n",
    "        \n",
    "        # Create an empty DataFrame with headers\n",
    "        empty_df = pd.DataFrame(columns=['Label', 'x_st_pt', 'y_st_pt', 'box_width', 'box_height', 'Image_name', 'Image_width', 'Image_height'])\n",
    "        \n",
    "        # Write the empty DataFrame to the CSV file\n",
    "        empty_df.to_csv(output_file, index=False)\n",
    "\n",
    "print(\"CSV files created successfully!\")\n"
   ]
  }
 ],
 "metadata": {
  "kernelspec": {
   "display_name": "Python 3",
   "language": "python",
   "name": "python3"
  },
  "language_info": {
   "codemirror_mode": {
    "name": "ipython",
    "version": 3
   },
   "file_extension": ".py",
   "mimetype": "text/x-python",
   "name": "python",
   "nbconvert_exporter": "python",
   "pygments_lexer": "ipython3",
   "version": "3.11.3"
  }
 },
 "nbformat": 4,
 "nbformat_minor": 2
}
