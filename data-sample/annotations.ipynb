{
 "cells": [
  {
   "cell_type": "code",
   "execution_count": 1,
   "metadata": {},
   "outputs": [
    {
     "name": "stdout",
     "output_type": "stream",
     "text": [
      "CSV files created successfully.\n"
     ]
    }
   ],
   "source": [
    "import pandas as pd\n",
    "\n",
    "# Read the data from the CSV file\n",
    "df = pd.read_csv('set1_annotations.csv')\n",
    "\n",
    "# Group the data by 'image_name'\n",
    "grouped = df.groupby('image_name')\n",
    "\n",
    "# Create a CSV file for each group\n",
    "for image_name, group in grouped:\n",
    "    # Create the new file name\n",
    "    new_file_name = f\"{image_name.split('.')[0]}_annot.csv\"\n",
    "    \n",
    "    # Write the group data to a new CSV file\n",
    "    group.to_csv(new_file_name, index=False)\n",
    "\n",
    "print(\"CSV files created successfully.\")\n"
   ]
  }
 ],
 "metadata": {
  "kernelspec": {
   "display_name": "Python 3",
   "language": "python",
   "name": "python3"
  },
  "language_info": {
   "codemirror_mode": {
    "name": "ipython",
    "version": 3
   },
   "file_extension": ".py",
   "mimetype": "text/x-python",
   "name": "python",
   "nbconvert_exporter": "python",
   "pygments_lexer": "ipython3",
   "version": "3.11.3"
  }
 },
 "nbformat": 4,
 "nbformat_minor": 2
}
